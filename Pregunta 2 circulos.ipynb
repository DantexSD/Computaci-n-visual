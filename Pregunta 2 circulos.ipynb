{
 "cells": [
  {
   "cell_type": "code",
   "execution_count": null,
   "id": "08ee2d66",
   "metadata": {},
   "outputs": [],
   "source": [
    "import numpy as np\n",
    "import cv2\n",
    " \n",
    "# Cargamos la imagen\n",
    "original = cv2.imread(\"circulos.jpeg\")\n",
    "cv2.imshow(\"original\", original)\n",
    "\n",
    "# Convertimos a escala de grises\n",
    "gris = cv2.cvtColor(original, cv2.COLOR_BGR2GRAY)\n",
    " \n",
    "# Aplicar suavizado Gaussiano\n",
    "gauss = cv2.GaussianBlur(gris, (5,5), 0)\n",
    " \n",
    "cv2.imshow(\"suavizado\", gauss)\n",
    "\n",
    "# Detectamos los bordes con Canny\n",
    "canny = cv2.Canny(gauss, 50, 150)\n",
    " \n",
    "cv2.imshow(\"canny\", canny)\n",
    "\n",
    "# Buscamos los contornos\n",
    "(contornos,_) = cv2.findContours(canny.copy(), cv2.RETR_EXTERNAL, cv2.CHAIN_APPROX_SIMPLE)\n",
    "\n",
    "# Mostramos el número de circulos por consola\n",
    "print(\"He encontrado {} objetos\".format(len(contornos)))\n",
    "\n",
    "cv2.drawContours(original,contornos,-1,(0,0,255), 2)\n",
    "cv2.imshow(\"contornos\", original)\n",
    "\n",
    "cv2.waitKey(0)"
   ]
  },
  {
   "cell_type": "code",
   "execution_count": null,
   "id": "ffab2ddb",
   "metadata": {},
   "outputs": [],
   "source": []
  }
 ],
 "metadata": {
  "kernelspec": {
   "display_name": "Python 3",
   "language": "python",
   "name": "python3"
  },
  "language_info": {
   "codemirror_mode": {
    "name": "ipython",
    "version": 3
   },
   "file_extension": ".py",
   "mimetype": "text/x-python",
   "name": "python",
   "nbconvert_exporter": "python",
   "pygments_lexer": "ipython3",
   "version": "3.8.8"
  }
 },
 "nbformat": 4,
 "nbformat_minor": 5
}
