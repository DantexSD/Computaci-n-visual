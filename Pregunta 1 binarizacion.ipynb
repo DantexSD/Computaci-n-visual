{
 "cells": [
  {
   "cell_type": "code",
   "execution_count": null,
   "id": "42fb610b",
   "metadata": {},
   "outputs": [
    {
     "name": "stdout",
     "output_type": "stream",
     "text": [
      "mean: 179.1164585501214\n"
     ]
    }
   ],
   "source": [
    "import cv2 as cv\n",
    "import numpy as np\n",
    " \n",
    " \n",
    "# Encuentra automáticamente el umbral de acuerdo con el método seleccionado\n",
    "def threshold_demo(image):\n",
    "         # Imagen en escala de grises\n",
    "    gray = cv.cvtColor(image, cv.COLOR_BGR2GRAY)\n",
    "         # Imagen binaria\n",
    "    ret, binary = cv.threshold(gray, 0, 255, cv.THRESH_BINARY | cv.THRESH_TRIANGLE)\n",
    "    print('threshold value %s' % ret)\n",
    "    cv.imshow('binary', binary)\n",
    " \n",
    " \n",
    " # Umbral local\n",
    "def local_threshold(image):\n",
    "    gray = cv.cvtColor(image, cv.COLOR_BGR2GRAY)\n",
    "         # blockSize debe ser un número impar, lo siguiente se establece en 25, mayor que el valor promedio 10 (establecido por usted mismo) se establece en blanco o negro, y dentro de 10 se establece en otro color\n",
    "    dst = cv.adaptiveThreshold(gray, 255, cv.ADAPTIVE_THRESH_GAUSSIAN_C, cv.THRESH_BINARY, 25, 10)\n",
    "    cv.imshow('binary', dst)\n",
    " \n",
    " \n",
    " # Umbral adaptativo\n",
    "def custom_threshold(image):\n",
    "    gray = cv.cvtColor(image, cv.COLOR_BGR2GRAY)\n",
    "    h, w = gray.shape[:2]\n",
    "    m = np.reshape(gray, [1, w*h])\n",
    "         # Mean\n",
    "    mean = m.sum() / (w*h)\n",
    "    print('mean:', mean)\n",
    "    ret, binary = cv.threshold(gray, mean, 255, cv.THRESH_BINARY)\n",
    "    cv.imshow('binary', binary)\n",
    " \n",
    " \n",
    " # Establecer manualmente el umbral\n",
    "def threshold_demo_1(image):\n",
    "    gray = cv.cvtColor(image, cv.COLOR_BGR2GRAY)\n",
    "    ret, binary = cv.threshold(gray, 127, 255, cv.THRESH_TRUNC)\n",
    "    print('threshold value %s' % ret)\n",
    "    cv.imshow('binary', binary)\n",
    " \n",
    " \n",
    "src = cv.imread('binarizacion.jpeg')\n",
    "cv.namedWindow('input image', cv.WINDOW_AUTOSIZE)\n",
    "cv.imshow('input image', src)\n",
    "custom_threshold(src)\n",
    "cv.waitKey(0)\n",
    "cv.destroyAllWindows()"
   ]
  },
  {
   "cell_type": "code",
   "execution_count": null,
   "id": "8bb0dedb",
   "metadata": {},
   "outputs": [],
   "source": []
  }
 ],
 "metadata": {
  "kernelspec": {
   "display_name": "Python 3",
   "language": "python",
   "name": "python3"
  },
  "language_info": {
   "codemirror_mode": {
    "name": "ipython",
    "version": 3
   },
   "file_extension": ".py",
   "mimetype": "text/x-python",
   "name": "python",
   "nbconvert_exporter": "python",
   "pygments_lexer": "ipython3",
   "version": "3.8.8"
  }
 },
 "nbformat": 4,
 "nbformat_minor": 5
}
