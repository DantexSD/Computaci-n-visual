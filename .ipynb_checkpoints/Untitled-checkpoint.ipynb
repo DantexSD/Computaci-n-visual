{
 "cells": [
  {
   "cell_type": "code",
   "execution_count": null,
   "id": "121bbb81",
   "metadata": {},
   "outputs": [],
   "source": [
    "import numpy as np\n",
    "import cv2\n",
    "from matplotlib import pyplot as plt\n",
    " \n",
    "src = cv2.imread('areaglacial.jpeg')\n",
    "img = src.copy()\n",
    "gray = cv2.cvtColor(img, cv2.COLOR_BGR2GRAY)\n",
    "ret, thresh = cv2.threshold(\n",
    "    gray, 0, 255, cv2.THRESH_BINARY_INV+cv2.THRESH_OTSU)\n",
    " \n",
    "# Eliminar ruido\n",
    "kernel = np.ones((3, 3), np.uint8)\n",
    "opening = cv2.morphologyEx(thresh, cv2.MORPH_OPEN, kernel, iterations=2)\n",
    " \n",
    " # Hinchazón\n",
    "sure_bg = cv2.dilate(opening, kernel, iterations=3)\n",
    " \n",
    " # Transformación de distancia\n",
    "dist_transform = cv2.distanceTransform(opening, 1, 5)\n",
    "ret, sure_fg = cv2.threshold(dist_transform, 0.7*dist_transform.max(), 255, 0)\n",
    " \n",
    " # Obtener área desconocida\n",
    "sure_fg = np.uint8(sure_fg)\n",
    "unknown = cv2.subtract(sure_bg, sure_fg)\n",
    " \n",
    " # Marca\n",
    "ret, markers1 = cv2.connectedComponents(sure_fg)\n",
    " \n",
    " # Asegúrese de que el fondo sea 1, no 0\n",
    "markers = markers1 + 1\n",
    " \n",
    " # El área desconocida se marca como 0\n",
    "markers[unknown == 255] = 0\n",
    " \n",
    "markers3 = cv2.watershed(img, markers)\n",
    "img[markers3 == -1] = [0, 0, 255]\n",
    " \n",
    "plt.subplot(241), plt.imshow(cv2.cvtColor(src, cv2.COLOR_BGR2RGB)),\n",
    "plt.title('Original'), plt.axis('off')\n",
    "plt.subplot(242), plt.imshow(thresh, cmap='gray'),\n",
    "plt.title('Threshold'), plt.axis('off')\n",
    "plt.subplot(243), plt.imshow(sure_bg, cmap='gray'),\n",
    "plt.title('Dilate'), plt.axis('off')\n",
    "plt.subplot(244), plt.imshow(dist_transform, cmap='gray'),\n",
    "plt.title('Dist Transform'), plt.axis('off')\n",
    "plt.subplot(245), plt.imshow(sure_fg, cmap='gray'),\n",
    "plt.title('Threshold'), plt.axis('off')\n",
    "plt.subplot(246), plt.imshow(unknown, cmap='gray'),\n",
    "plt.title('Unknow'), plt.axis('off')\n",
    "plt.subplot(247), plt.imshow(np.abs(markers), cmap='jet'),\n",
    "plt.title('Markers'), plt.axis('off')\n",
    "plt.subplot(248), plt.imshow(cv2.cvtColor(img, cv2.COLOR_BGR2RGB)),\n",
    "plt.title('Result'), plt.axis('off')\n",
    " \n",
    "plt.show()"
   ]
  },
  {
   "cell_type": "code",
   "execution_count": null,
   "id": "5fca87ec",
   "metadata": {},
   "outputs": [],
   "source": []
  }
 ],
 "metadata": {
  "kernelspec": {
   "display_name": "Python 3",
   "language": "python",
   "name": "python3"
  },
  "language_info": {
   "codemirror_mode": {
    "name": "ipython",
    "version": 3
   },
   "file_extension": ".py",
   "mimetype": "text/x-python",
   "name": "python",
   "nbconvert_exporter": "python",
   "pygments_lexer": "ipython3",
   "version": "3.8.8"
  }
 },
 "nbformat": 4,
 "nbformat_minor": 5
}
